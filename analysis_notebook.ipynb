{
 "cells": [
  {
   "cell_type": "code",
   "execution_count": 2,
   "metadata": {},
   "outputs": [],
   "source": [
    "import numpy as np\n",
    "import matplotlib.pyplot as plt"
   ]
  },
  {
   "cell_type": "code",
   "execution_count": 25,
   "metadata": {},
   "outputs": [],
   "source": [
    "### Electron events\n",
    "e_events = np.array([556,589,1247,1272,1302,1319,1575,1672,1687,1862,1879,1886,1976,2197,2224,2273,2416,2433,2564,2571])\n",
    "e_Ctrk = np.array([7,2,3,2,0,2,6,2,2,2,14,2,6,5,2,4,2,2,6,2])\n",
    "e_Sump = np.array([84.4,92.2,78.5,83.3,0.0,71.0,0.0,71.6,71.3,74.4,0,83.2,47.9,65.1,82.5,0.0,0.0,0.0,2.0,59.9])\n",
    "e_Ecal = np.array([89.1,89.5,90.3,93.5,87.1,91.6,95.3,92.2,94.2,88.5,83.8,91.2,90.3,92.5,90.3,91.1,90.1,97.3,90.8,92.3])\n",
    "e_Hcal = np.array([0.2,0.2,0.3,0.9,0.8,1.8,1.4,0.0,0.7,0.3,0.3,0.3,0.3,0.0,0.3,2.2,6.1,0.3,0.7,0.3])"
   ]
  },
  {
   "cell_type": "code",
   "execution_count": 26,
   "metadata": {},
   "outputs": [],
   "source": [
    "### Hadron events\n",
    "h_events = np.array([523,672,832,917,989,1140,1203,1288,1455,1586,1675,1837,1997,2109,2205,2330,2474,2658,2754,2884])\n",
    "h_Ctrk = np.array([51,52,28,24,36,28,39,21,30,22,34,39,20,25,25,53,30,37,23,27])\n",
    "h_Sump = np.array([77.3,54.8,50,32,53.3,13.9,40.4,43.3,3.2,293.1,39.8,72,66.2,49.7,53.8,13.2,60.2,18.9,60.9,48.7])\n",
    "h_Ecal = np.array([42.1,39.7,55.7,46.7,33.2,58.4,58.8,50.8,37.2,52.9,50.7,41.4,23.8,37.8,53.2,51.5,37.8,58.8,53.4,57.0])\n",
    "h_Hcal = np.array([3.0,15.8,11.9,8.3,16.3,5.5,0.6,203.9,3.3,15.7,13.5,25,15.9,48.7,17.7,6.0,84.6,9.0,28.4,9.5])"
   ]
  },
  {
   "cell_type": "code",
   "execution_count": 37,
   "metadata": {},
   "outputs": [
    {
     "data": {
      "text/plain": [
       "(array([0., 0., 0., 0., 5., 5., 3., 4., 0., 0., 3., 0.]),\n",
       " array([ 0.,  5., 10., 15., 20., 25., 30., 35., 40., 45., 50., 55., 60.]),\n",
       " [<matplotlib.patches.Polygon at 0x1ecc4fe6490>])"
      ]
     },
     "execution_count": 37,
     "metadata": {},
     "output_type": "execute_result"
    },
    {
     "data": {
      "image/png": "[encoded data removed]",
      "text/plain": [
       "<Figure size 432x288 with 1 Axes>"
      ]
     },
     "metadata": {
      "needs_background": "light"
     },
     "output_type": "display_data"
    }
   ],
   "source": [
    "bins = np.linspace(0,60, 13)\n",
    "plt.hist(e_Ctrk,bins = bins ,histtype='step',  linewidth=2, edgecolor='b')\n",
    "plt.hist(h_Ctrk,bins = bins ,histtype='step',  linewidth=2, edgecolor='orange')"
   ]
  },
  {
   "cell_type": "code",
   "execution_count": 46,
   "metadata": {},
   "outputs": [
    {
     "data": {
      "text/plain": [
       "(array([1., 0., 2., 1., 0., 0., 1., 1., 2., 2., 4., 0., 2., 1., 1., 1., 0.,\n",
       "        0., 0., 0.]),\n",
       " array([  0.,   5.,  10.,  15.,  20.,  25.,  30.,  35.,  40.,  45.,  50.,\n",
       "         55.,  60.,  65.,  70.,  75.,  80.,  85.,  90.,  95., 100.]),\n",
       " [<matplotlib.patches.Polygon at 0x1ecc6537790>])"
      ]
     },
     "execution_count": 46,
     "metadata": {},
     "output_type": "execute_result"
    },
    {
     "data": {
      "image/png": "[encoded data removed]",
      "text/plain": [
       "<Figure size 432x288 with 1 Axes>"
      ]
     },
     "metadata": {
      "needs_background": "light"
     },
     "output_type": "display_data"
    }
   ],
   "source": [
    "bins2 = np.linspace(0,100, 21)\n",
    "plt.hist(e_Sump,bins = bins2 ,histtype='step',  linewidth=2, edgecolor='b')\n",
    "plt.hist(h_Sump,bins = bins2 ,histtype='step',  linewidth=2, edgecolor='orange')"
   ]
  },
  {
   "cell_type": "code",
   "execution_count": 42,
   "metadata": {},
   "outputs": [
    {
     "data": {
      "text/plain": [
       "(array([1., 0., 1., 4., 2., 1., 6., 5., 0., 0., 0., 0., 0., 0., 0., 0., 0.,\n",
       "        0., 0., 0.]),\n",
       " array([ 20.,  25.,  30.,  35.,  40.,  45.,  50.,  55.,  60.,  65.,  70.,\n",
       "         75.,  80.,  85.,  90.,  95., 100., 105., 110., 115., 120.]),\n",
       " <BarContainer object of 20 artists>)"
      ]
     },
     "execution_count": 42,
     "metadata": {},
     "output_type": "execute_result"
    },
    {
     "data": {
      "image/png": "[encoded data removed]",
      "text/plain": [
       "<Figure size 432x288 with 1 Axes>"
      ]
     },
     "metadata": {
      "needs_background": "light"
     },
     "output_type": "display_data"
    }
   ],
   "source": [
    "bins3 = np.linspace(20,120, 21)\n",
    "plt.hist(e_Ecal,bins = bins3 )\n",
    "plt.hist(h_Ecal,bins = bins3 )"
   ]
  },
  {
   "cell_type": "code",
   "execution_count": 45,
   "metadata": {},
   "outputs": [
    {
     "data": {
      "text/plain": [
       "(array([3., 5., 2., 5., 0., 2., 0., 0., 0., 1., 0., 0., 0., 0., 0., 0., 1.,\n",
       "        0., 0., 0.]),\n",
       " array([  0.,   5.,  10.,  15.,  20.,  25.,  30.,  35.,  40.,  45.,  50.,\n",
       "         55.,  60.,  65.,  70.,  75.,  80.,  85.,  90.,  95., 100.]),\n",
       " [<matplotlib.patches.Polygon at 0x1ecc64cbcd0>])"
      ]
     },
     "execution_count": 45,
     "metadata": {},
     "output_type": "execute_result"
    },
    {
     "data": {
      "image/png": "[encoded data removed]",
      "text/plain": [
       "<Figure size 432x288 with 1 Axes>"
      ]
     },
     "metadata": {
      "needs_background": "light"
     },
     "output_type": "display_data"
    }
   ],
   "source": [
    "bins4 = np.linspace(0,100, 21)\n",
    "plt.hist(e_Hcal,bins = bins4,histtype='step' )\n",
    "plt.hist(h_Hcal,bins = bins4,histtype='step' )"
   ]
  },
  {
   "cell_type": "code",
   "execution_count": null,
   "metadata": {},
   "outputs": [],
   "source": []
  }
 ],
 "metadata": {
  "kernelspec": {
   "display_name": "Python 3",
   "language": "python",
   "name": "python3"
  },
  "language_info": {
   "codemirror_mode": {
    "name": "ipython",
    "version": 3
   },
   "file_extension": ".py",
   "mimetype": "text/x-python",
   "name": "python",
   "nbconvert_exporter": "python",
   "pygments_lexer": "ipython3",
   "version": "3.8.5"
  }
 },
 "nbformat": 4,
 "nbformat_minor": 4
}
